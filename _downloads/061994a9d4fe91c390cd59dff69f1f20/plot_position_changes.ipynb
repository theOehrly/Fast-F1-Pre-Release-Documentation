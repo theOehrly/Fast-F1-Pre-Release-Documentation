{
  "cells": [
    {
      "cell_type": "markdown",
      "metadata": {},
      "source": [
        "\n# Position changes during a race\n\nPlot the position of each driver at the end of each lap.\n"
      ]
    },
    {
      "cell_type": "code",
      "execution_count": null,
      "metadata": {
        "collapsed": false
      },
      "outputs": [],
      "source": [
        "import matplotlib.pyplot as plt\n\nimport fastf1.plotting\n\n\nfastf1.plotting.setup_mpl(misc_mpl_mods=False)"
      ]
    },
    {
      "cell_type": "markdown",
      "metadata": {},
      "source": [
        "Load the session and create the plot\n\n"
      ]
    },
    {
      "cell_type": "code",
      "execution_count": null,
      "metadata": {
        "collapsed": false
      },
      "outputs": [],
      "source": [
        "session = fastf1.get_session(2023, 1, 'R')\nsession.load(telemetry=False, weather=False)\n\nfig, ax = plt.subplots(figsize=(8.0, 4.9))"
      ]
    },
    {
      "cell_type": "markdown",
      "metadata": {},
      "source": [
        "For each driver, get their three letter abbreviation (e.g. 'HAM') by simply\nusing the value of the first lap, get their color and then plot their\nposition over the number of laps.\n\n"
      ]
    },
    {
      "cell_type": "code",
      "execution_count": null,
      "metadata": {
        "collapsed": false
      },
      "outputs": [],
      "source": [
        "for drv in session.drivers:\n    drv_laps = session.laps.pick_driver(drv)\n\n    abb = drv_laps['Driver'].iloc[0]\n    color = fastf1.plotting.driver_color(abb)\n\n    ax.plot(drv_laps['LapNumber'], drv_laps['Position'],\n            label=abb, color=color)"
      ]
    },
    {
      "cell_type": "markdown",
      "metadata": {},
      "source": [
        "Finalize the plot by setting y-limits that invert the y-axis so that position\none is at the top, set custom tick positions and axis labels.\n\n"
      ]
    },
    {
      "cell_type": "code",
      "execution_count": null,
      "metadata": {
        "collapsed": false
      },
      "outputs": [],
      "source": [
        "ax.set_ylim([20.5, 0.5])\nax.set_yticks([1, 5, 10, 15, 20])\nax.set_xlabel('Lap')\nax.set_ylabel('Position')"
      ]
    },
    {
      "cell_type": "markdown",
      "metadata": {},
      "source": [
        "Because this plot is very crowed, add the legend outside the plot area.\n\n"
      ]
    },
    {
      "cell_type": "code",
      "execution_count": null,
      "metadata": {
        "collapsed": false
      },
      "outputs": [],
      "source": [
        "ax.legend(bbox_to_anchor=(1.0, 1.02))\nplt.tight_layout()\n\nplt.show()"
      ]
    }
  ],
  "metadata": {
    "kernelspec": {
      "display_name": "Python 3",
      "language": "python",
      "name": "python3"
    },
    "language_info": {
      "codemirror_mode": {
        "name": "ipython",
        "version": 3
      },
      "file_extension": ".py",
      "mimetype": "text/x-python",
      "name": "python",
      "nbconvert_exporter": "python",
      "pygments_lexer": "ipython3",
      "version": "3.12.1"
    }
  },
  "nbformat": 4,
  "nbformat_minor": 0
}