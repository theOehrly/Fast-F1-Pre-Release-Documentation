{
  "cells": [
    {
      "cell_type": "code",
      "execution_count": null,
      "metadata": {
        "collapsed": false
      },
      "outputs": [],
      "source": [
        "%matplotlib inline"
      ]
    },
    {
      "cell_type": "markdown",
      "metadata": {},
      "source": [
        "# Gear shifts on track\n\nPlot which gear is being used at which point of the track\n"
      ]
    },
    {
      "cell_type": "markdown",
      "metadata": {},
      "source": [
        "Import FastF1 and load the data\n\n"
      ]
    },
    {
      "cell_type": "code",
      "execution_count": null,
      "metadata": {
        "collapsed": false
      },
      "outputs": [],
      "source": [
        "import fastf1\n\nimport matplotlib.pyplot as plt\nfrom matplotlib.collections import LineCollection\nfrom matplotlib import cm\nimport numpy as np\n\n\nfastf1.Cache.enable_cache('../doc_cache')  # replace with your cache directory\n\nsession = fastf1.get_session(2021, 'Austrian Grand Prix', 'Q')\nsession.load()\n\nlap = session.laps.pick_fastest()\ntel = lap.get_telemetry()"
      ]
    },
    {
      "cell_type": "markdown",
      "metadata": {},
      "source": [
        "Prepare the data for plotting by converting it to the appropriate numpy\ndata types\n\n"
      ]
    },
    {
      "cell_type": "code",
      "execution_count": null,
      "metadata": {
        "collapsed": false
      },
      "outputs": [],
      "source": [
        "x = np.array(tel['X'].values)\ny = np.array(tel['Y'].values)\n\npoints = np.array([x, y]).T.reshape(-1, 1, 2)\nsegments = np.concatenate([points[:-1], points[1:]], axis=1)\ngear = tel['nGear'].to_numpy().astype(float)"
      ]
    },
    {
      "cell_type": "markdown",
      "metadata": {},
      "source": [
        "Create a line collection. Set a segmented colormap and normalize the plot\nto full integer values of the colormap\n\n"
      ]
    },
    {
      "cell_type": "code",
      "execution_count": null,
      "metadata": {
        "collapsed": false
      },
      "outputs": [],
      "source": [
        "cmap = cm.get_cmap('Paired')\nlc_comp = LineCollection(segments, norm=plt.Normalize(1, cmap.N+1), cmap=cmap)\nlc_comp.set_array(gear)\nlc_comp.set_linewidth(4)"
      ]
    },
    {
      "cell_type": "markdown",
      "metadata": {},
      "source": [
        "Create the plot\n\n"
      ]
    },
    {
      "cell_type": "code",
      "execution_count": null,
      "metadata": {
        "collapsed": false
      },
      "outputs": [],
      "source": [
        "plt.gca().add_collection(lc_comp)\nplt.axis('equal')\nplt.tick_params(labelleft=False, left=False, labelbottom=False, bottom=False)\n\ntitle = plt.suptitle(\n    f\"Fastest Lap Gear Shift Visualization\\n\"\n    f\"{lap['Driver']} - {session.event['EventName']} {session.event.year}\"\n)"
      ]
    },
    {
      "cell_type": "markdown",
      "metadata": {},
      "source": [
        "Add a colorbar to the plot. Shift the colorbar ticks by +0.5 so that they\nare centered for each color segment.\n\n"
      ]
    },
    {
      "cell_type": "code",
      "execution_count": null,
      "metadata": {
        "collapsed": false
      },
      "outputs": [],
      "source": [
        "cbar = plt.colorbar(mappable=lc_comp, label=\"Gear\", boundaries=np.arange(1, 10))\ncbar.set_ticks(np.arange(1.5, 9.5))\ncbar.set_ticklabels(np.arange(1, 9))\n\n\nplt.show()"
      ]
    }
  ],
  "metadata": {
    "kernelspec": {
      "display_name": "Python 3",
      "language": "python",
      "name": "python3"
    },
    "language_info": {
      "codemirror_mode": {
        "name": "ipython",
        "version": 3
      },
      "file_extension": ".py",
      "mimetype": "text/x-python",
      "name": "python",
      "nbconvert_exporter": "python",
      "pygments_lexer": "ipython3",
      "version": "3.8.10"
    }
  },
  "nbformat": 4,
  "nbformat_minor": 0
}