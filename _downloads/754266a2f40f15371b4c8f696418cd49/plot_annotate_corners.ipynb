{
  "cells": [
    {
      "cell_type": "markdown",
      "metadata": {},
      "source": [
        "# Draw a track map with numbered corners\n\nUse the position data of a single lap to draw a track map.\nThen annotate the map with corner numbers.\n"
      ]
    },
    {
      "cell_type": "markdown",
      "metadata": {},
      "source": [
        "Import FastF1 and load the data. Use the telemetry from the fastest for the\ntrack map. (You could also use any other lap instead.)\n\n"
      ]
    },
    {
      "cell_type": "code",
      "execution_count": null,
      "metadata": {
        "collapsed": false
      },
      "outputs": [],
      "source": [
        "import matplotlib.pyplot as plt\nimport numpy as np\n\nimport fastf1\n\n\nsession = fastf1.get_session(2023, 'Silverstone', 'Q')\nsession.load()\n\nlap = session.laps.pick_fastest()\npos = lap.get_pos_data()\n\ncircuit_info = session.get_circuit_info()"
      ]
    },
    {
      "cell_type": "markdown",
      "metadata": {},
      "source": [
        "Define a helper function for rotating points around the origin of the\ncoordinate system.\n\nThe matrix ``[[cos, sin], [-sin, cos]]`` is called a rotation matrix.\n\nBy matrix multiplication of the rotation matrix with a vector [x, y], a new\nrotated vector [x_rot, y_rot] is obtained.\n(See also: https://en.wikipedia.org/wiki/Rotation_matrix)\n\n"
      ]
    },
    {
      "cell_type": "code",
      "execution_count": null,
      "metadata": {
        "collapsed": false
      },
      "outputs": [],
      "source": [
        "def rotate(xy, *, angle):\n    rot_mat = np.array([[np.cos(angle), np.sin(angle)],\n                        [-np.sin(angle), np.cos(angle)]])\n    return np.matmul(xy, rot_mat)"
      ]
    },
    {
      "cell_type": "markdown",
      "metadata": {},
      "source": [
        "Get the coordinates of the track map from the telemetry of the lap and\nrotate the coordinates using the rotation from ``circuit_info`` so that\nthe track map is oriented correctly. After that, plot the rotated track map.\n\n"
      ]
    },
    {
      "cell_type": "code",
      "execution_count": null,
      "metadata": {
        "collapsed": false
      },
      "outputs": [],
      "source": [
        "# Get an array of shape [n, 2] where n is the number of points and the second\n# axis is x and y.\ntrack = pos.loc[:, ('X', 'Y')].to_numpy()\n\n# Convert the rotation angle from degrees to radian.\ntrack_angle = circuit_info.rotation / 180 * np.pi\n\n# Rotate and plot the track map.\nrotated_track = rotate(track, angle=track_angle)\nplt.plot(rotated_track[:, 0], rotated_track[:, 1])"
      ]
    },
    {
      "cell_type": "markdown",
      "metadata": {},
      "source": [
        "Finally, the corner markers are plotted. To plot the numbers next to the\ntrack, an offset vector that points straight up is defined. This offset\nvector is then rotated by the angle that is given for each corner marker.\nA line and circular bubble are drawn and the corner marker text is printed\ninside the bubble.\n\n"
      ]
    },
    {
      "cell_type": "code",
      "execution_count": null,
      "metadata": {
        "collapsed": false
      },
      "outputs": [],
      "source": [
        "offset_vector = [500, 0]  # offset length is chosen arbitrarily to 'look good'\n\n# Iterate over all corners.\nfor _, corner in circuit_info.corners.iterrows():\n    # Create a string from corner number and letter\n    txt = f\"{corner['Number']}{corner['Letter']}\"\n\n    # Convert the angle from degrees to radian.\n    offset_angle = corner['Angle'] / 180 * np.pi\n\n    # Rotate the offset vector so that it points sideways from the track.\n    offset_x, offset_y = rotate(offset_vector, angle=offset_angle)\n\n    # Add the offset to the position of the corner\n    text_x = corner['X'] + offset_x\n    text_y = corner['Y'] + offset_y\n\n    # Rotate the text position equivalently to the rest of the track map\n    text_x, text_y = rotate([text_x, text_y], angle=track_angle)\n\n    # Rotate the center of the corner equivalently to the rest of the track map\n    track_x, track_y = rotate([corner['X'], corner['Y']], angle=track_angle)\n\n    # Draw a circle next to the track.\n    plt.scatter(text_x, text_y, color='grey', s=140)\n\n    # Draw a line from the track to this circle.\n    plt.plot([track_x, text_x], [track_y, text_y], color='grey')\n\n    # Finally, print the corner number inside the circle.\n    plt.text(text_x, text_y, txt,\n             va='center_baseline', ha='center', size='small', color='white')"
      ]
    },
    {
      "cell_type": "markdown",
      "metadata": {},
      "source": [
        "Add a title, remove tick labels to clean up the plot, set equal axis ratio,\nso that the track is not distorted and show the plot.\n\n"
      ]
    },
    {
      "cell_type": "code",
      "execution_count": null,
      "metadata": {
        "collapsed": false
      },
      "outputs": [],
      "source": [
        "plt.title(session.event['Location'])\nplt.xticks([])\nplt.yticks([])\nplt.axis('equal')\nplt.show()"
      ]
    }
  ],
  "metadata": {
    "kernelspec": {
      "display_name": "Python 3",
      "language": "python",
      "name": "python3"
    },
    "language_info": {
      "codemirror_mode": {
        "name": "ipython",
        "version": 3
      },
      "file_extension": ".py",
      "mimetype": "text/x-python",
      "name": "python",
      "nbconvert_exporter": "python",
      "pygments_lexer": "ipython3",
      "version": "3.12.1"
    }
  },
  "nbformat": 4,
  "nbformat_minor": 0
}