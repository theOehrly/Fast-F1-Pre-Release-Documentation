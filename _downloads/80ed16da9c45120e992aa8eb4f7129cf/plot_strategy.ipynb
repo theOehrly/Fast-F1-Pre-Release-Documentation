{
  "cells": [
    {
      "cell_type": "markdown",
      "metadata": {},
      "source": [
        "\n# Tyre strategies during a race\n\nPlot all drivers' tyre strategies during a race.\n"
      ]
    },
    {
      "cell_type": "code",
      "execution_count": null,
      "metadata": {
        "collapsed": false
      },
      "outputs": [],
      "source": [
        "from matplotlib import pyplot as plt\n\nimport fastf1\nimport fastf1.plotting"
      ]
    },
    {
      "cell_type": "markdown",
      "metadata": {},
      "source": [
        "Load the race session\n\n"
      ]
    },
    {
      "cell_type": "code",
      "execution_count": null,
      "metadata": {
        "collapsed": false
      },
      "outputs": [],
      "source": [
        "session = fastf1.get_session(2022, \"Hungary\", 'R')\nsession.load()\nlaps = session.laps"
      ]
    },
    {
      "cell_type": "markdown",
      "metadata": {},
      "source": [
        "Get the list of driver numbers\n\n"
      ]
    },
    {
      "cell_type": "code",
      "execution_count": null,
      "metadata": {
        "collapsed": false
      },
      "outputs": [],
      "source": [
        "drivers = session.drivers\nprint(drivers)"
      ]
    },
    {
      "cell_type": "markdown",
      "metadata": {},
      "source": [
        "Convert the driver numbers to three letter abbreviations\n\n"
      ]
    },
    {
      "cell_type": "code",
      "execution_count": null,
      "metadata": {
        "collapsed": false
      },
      "outputs": [],
      "source": [
        "drivers = [session.get_driver(driver)[\"Abbreviation\"] for driver in drivers]\nprint(drivers)"
      ]
    },
    {
      "cell_type": "markdown",
      "metadata": {},
      "source": [
        "We need to find the stint length and compound used\nfor every stint by every driver.\nWe do this by first grouping the laps by the driver,\nthe stint number, and the compound.\nAnd then counting the number of laps in each group.\n\n"
      ]
    },
    {
      "cell_type": "code",
      "execution_count": null,
      "metadata": {
        "collapsed": false
      },
      "outputs": [],
      "source": [
        "stints = laps[[\"Driver\", \"Stint\", \"Compound\", \"LapNumber\"]]\nstints = stints.groupby([\"Driver\", \"Stint\", \"Compound\"])\nstints = stints.count().reset_index()"
      ]
    },
    {
      "cell_type": "markdown",
      "metadata": {},
      "source": [
        "The number in the LapNumber column now stands for the number of observations\nin that group aka the stint length.\n\n"
      ]
    },
    {
      "cell_type": "code",
      "execution_count": null,
      "metadata": {
        "collapsed": false
      },
      "outputs": [],
      "source": [
        "stints = stints.rename(columns={\"LapNumber\": \"StintLength\"})\nprint(stints)"
      ]
    },
    {
      "cell_type": "markdown",
      "metadata": {},
      "source": [
        "Now we can plot the strategies for each driver\n\n"
      ]
    },
    {
      "cell_type": "code",
      "execution_count": null,
      "metadata": {
        "collapsed": false
      },
      "outputs": [],
      "source": [
        "fig, ax = plt.subplots(figsize=(5, 10))\n\nfor driver in drivers:\n    driver_stints = stints.loc[stints[\"Driver\"] == driver]\n\n    previous_stint_end = 0\n    for idx, row in driver_stints.iterrows():\n        # each row contains the compound name and stint length\n        # we can use these information to draw horizontal bars\n        plt.barh(\n            y=driver,\n            width=row[\"StintLength\"],\n            left=previous_stint_end,\n            color=fastf1.plotting.COMPOUND_COLORS[row[\"Compound\"]],\n            edgecolor=\"black\",\n            fill=True\n        )\n\n        previous_stint_end += row[\"StintLength\"]"
      ]
    },
    {
      "cell_type": "markdown",
      "metadata": {},
      "source": [
        "Make the plot more readable and intuitive\n\n"
      ]
    },
    {
      "cell_type": "code",
      "execution_count": null,
      "metadata": {
        "collapsed": false
      },
      "outputs": [],
      "source": [
        "plt.title(\"2022 Hungarian Grand Prix Strategies\")\nplt.xlabel(\"Lap Number\")\nplt.grid(False)\n# invert the y-axis so drivers that finish higher are closer to the top\nax.invert_yaxis()"
      ]
    },
    {
      "cell_type": "markdown",
      "metadata": {},
      "source": [
        "Plot aesthetics\n\n"
      ]
    },
    {
      "cell_type": "code",
      "execution_count": null,
      "metadata": {
        "collapsed": false
      },
      "outputs": [],
      "source": [
        "ax.spines['top'].set_visible(False)\nax.spines['right'].set_visible(False)\nax.spines['left'].set_visible(False)\n\nplt.tight_layout()\nplt.show()"
      ]
    }
  ],
  "metadata": {
    "kernelspec": {
      "display_name": "Python 3",
      "language": "python",
      "name": "python3"
    },
    "language_info": {
      "codemirror_mode": {
        "name": "ipython",
        "version": 3
      },
      "file_extension": ".py",
      "mimetype": "text/x-python",
      "name": "python",
      "nbconvert_exporter": "python",
      "pygments_lexer": "ipython3",
      "version": "3.12.1"
    }
  },
  "nbformat": 4,
  "nbformat_minor": 0
}