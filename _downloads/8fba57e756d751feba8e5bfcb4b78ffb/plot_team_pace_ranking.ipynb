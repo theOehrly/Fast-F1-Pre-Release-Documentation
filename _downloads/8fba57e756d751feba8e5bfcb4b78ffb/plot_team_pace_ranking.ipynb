{
  "cells": [
    {
      "cell_type": "markdown",
      "metadata": {},
      "source": [
        "# Team Pace Comparison\nRank team's race pace from the fastest to the slowest.\n"
      ]
    },
    {
      "cell_type": "code",
      "execution_count": null,
      "metadata": {
        "collapsed": false
      },
      "outputs": [],
      "source": [
        "import seaborn as sns\nfrom matplotlib import pyplot as plt\n\nimport fastf1\nimport fastf1.plotting\n\n\n# activate the fastf1 color scheme (and no other modifications)\nfastf1.plotting.setup_mpl(mpl_timedelta_support=False, misc_mpl_mods=False)"
      ]
    },
    {
      "cell_type": "markdown",
      "metadata": {},
      "source": [
        "Load the race session.\nPick all quick laps (within 107% of fastest lap).\nFor races with mixed conditions, pick_wo_box() is better.\n\n"
      ]
    },
    {
      "cell_type": "code",
      "execution_count": null,
      "metadata": {
        "collapsed": false
      },
      "outputs": [],
      "source": [
        "race = fastf1.get_session(2023, \"British Grand Prix\", 'R')\nrace.load()\nlaps = race.laps.pick_quicklaps()"
      ]
    },
    {
      "cell_type": "markdown",
      "metadata": {},
      "source": [
        "Convert the lap time column from timedelta to integer.\nThis is a seaborn-specific modification.\nIf plotting with matplotlib, set mpl_timedelta_support to true\nwith plotting.setup_mpl.\n\n"
      ]
    },
    {
      "cell_type": "code",
      "execution_count": null,
      "metadata": {
        "collapsed": false
      },
      "outputs": [],
      "source": [
        "transformed_laps = laps.copy()\ntransformed_laps.loc[:, \"LapTime (s)\"] = laps[\"LapTime\"].dt.total_seconds()\n\n# order the team from the fastest (lowest median lap time) tp slower\nteam_order = (\n    transformed_laps[[\"Team\", \"LapTime (s)\"]]\n    .groupby(\"Team\")\n    .median()[\"LapTime (s)\"]\n    .sort_values()\n    .index\n)\nprint(team_order)\n\n# make a color palette associating team names to hex codes\nteam_palette = {team: fastf1.plotting.team_color(team) for team in team_order}"
      ]
    },
    {
      "cell_type": "code",
      "execution_count": null,
      "metadata": {
        "collapsed": false
      },
      "outputs": [],
      "source": [
        "fig, ax = plt.subplots(figsize=(15, 10))\nsns.boxplot(\n    data=transformed_laps,\n    x=\"Team\",\n    y=\"LapTime (s)\",\n    hue=\"Team\",\n    order=team_order,\n    palette=team_palette,\n    whiskerprops=dict(color=\"white\"),\n    boxprops=dict(edgecolor=\"white\"),\n    medianprops=dict(color=\"grey\"),\n    capprops=dict(color=\"white\"),\n)\n\nplt.title(\"2023 British Grand Prix\")\nplt.grid(visible=False)\n\n# x-label is redundant\nax.set(xlabel=None)\nplt.tight_layout()\nplt.show()"
      ]
    }
  ],
  "metadata": {
    "kernelspec": {
      "display_name": "Python 3",
      "language": "python",
      "name": "python3"
    },
    "language_info": {
      "codemirror_mode": {
        "name": "ipython",
        "version": 3
      },
      "file_extension": ".py",
      "mimetype": "text/x-python",
      "name": "python",
      "nbconvert_exporter": "python",
      "pygments_lexer": "ipython3",
      "version": "3.12.1"
    }
  },
  "nbformat": 4,
  "nbformat_minor": 0
}