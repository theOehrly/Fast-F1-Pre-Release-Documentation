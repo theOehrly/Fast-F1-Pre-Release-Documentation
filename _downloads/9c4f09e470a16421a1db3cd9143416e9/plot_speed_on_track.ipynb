{
  "cells": [
    {
      "cell_type": "code",
      "execution_count": null,
      "metadata": {
        "collapsed": false
      },
      "outputs": [],
      "source": [
        "%matplotlib inline"
      ]
    },
    {
      "cell_type": "markdown",
      "metadata": {},
      "source": [
        "# Speed visualization on track map\n\n(Example provided by @JSEHV on Github)\n"
      ]
    },
    {
      "cell_type": "code",
      "execution_count": null,
      "metadata": {
        "collapsed": false
      },
      "outputs": [],
      "source": [
        "import fastf1 as ff1\nimport numpy as np\nimport matplotlib as mpl\n\nfrom matplotlib import pyplot as plt\nfrom matplotlib.collections import LineCollection\n\n\nff1.Cache.enable_cache('../doc_cache')  # replace with your cache directory"
      ]
    },
    {
      "cell_type": "markdown",
      "metadata": {},
      "source": [
        "First, we define some variables that allow us to conveniently control what\nwe want to plot.\n\n"
      ]
    },
    {
      "cell_type": "code",
      "execution_count": null,
      "metadata": {
        "collapsed": false
      },
      "outputs": [],
      "source": [
        "year = 2021\nwknd = 9\nses = 'R'\ndriver = 'RIC'\ncolormap = mpl.cm.plasma"
      ]
    },
    {
      "cell_type": "markdown",
      "metadata": {},
      "source": [
        "Next, we load the session and select the desired data.\n\n"
      ]
    },
    {
      "cell_type": "code",
      "execution_count": null,
      "metadata": {
        "collapsed": false
      },
      "outputs": [],
      "source": [
        "session = ff1.get_session(year, wknd, ses)\nweekend = session.event\nsession.load()\nlap = session.laps.pick_driver(driver).pick_fastest()\n\n# Get telemetry data\nx = lap.telemetry['X']              # values for x-axis\ny = lap.telemetry['Y']              # values for y-axis\ncolor = lap.telemetry['Speed']      # value to base color gradient on"
      ]
    },
    {
      "cell_type": "markdown",
      "metadata": {},
      "source": [
        "Now, we create a set of line segments so that we can color them\nindividually. This creates the points as a N x 1 x 2 array so that we can\nstack points  together easily to get the segments. The segments array for\nline collection needs to be (numlines) x (points per line) x 2 (for x and y)\n\n"
      ]
    },
    {
      "cell_type": "code",
      "execution_count": null,
      "metadata": {
        "collapsed": false
      },
      "outputs": [],
      "source": [
        "points = np.array([x, y]).T.reshape(-1, 1, 2)\nsegments = np.concatenate([points[:-1], points[1:]], axis=1)"
      ]
    },
    {
      "cell_type": "markdown",
      "metadata": {},
      "source": [
        "After this, we can actually plot the data.\n\n"
      ]
    },
    {
      "cell_type": "code",
      "execution_count": null,
      "metadata": {
        "collapsed": false
      },
      "outputs": [],
      "source": [
        "# We create a plot with title and adjust some setting to make it look good.\nfig, ax = plt.subplots(sharex=True, sharey=True, figsize=(12, 6.75))\nfig.suptitle(f'{weekend.name} {year} - {driver} - Speed', size=24, y=0.97)\n\n# Adjust margins and turn of axis\nplt.subplots_adjust(left=0.1, right=0.9, top=0.9, bottom=0.12)\nax.axis('off')\n\n\n# After this, we plot the data itself.\n# Create background track line\nax.plot(lap.telemetry['X'], lap.telemetry['Y'], color='black', linestyle='-', linewidth=16, zorder=0)\n\n# Create a continuous norm to map from data points to colors\nnorm = plt.Normalize(color.min(), color.max())\nlc = LineCollection(segments, cmap=colormap, norm=norm, linestyle='-', linewidth=5)\n\n# Set the values used for colormapping\nlc.set_array(color)\n\n# Merge all line segments together\nline = ax.add_collection(lc)\n\n\n# Finally, we create a color bar as a legend.\ncbaxes = fig.add_axes([0.25, 0.05, 0.5, 0.05])\nnormlegend = mpl.colors.Normalize(vmin=color.min(), vmax=color.max())\nlegend = mpl.colorbar.ColorbarBase(cbaxes, norm=normlegend, cmap=colormap, orientation=\"horizontal\")\n\n\n# Show the plot\nplt.show()"
      ]
    }
  ],
  "metadata": {
    "kernelspec": {
      "display_name": "Python 3",
      "language": "python",
      "name": "python3"
    },
    "language_info": {
      "codemirror_mode": {
        "name": "ipython",
        "version": 3
      },
      "file_extension": ".py",
      "mimetype": "text/x-python",
      "name": "python",
      "nbconvert_exporter": "python",
      "pygments_lexer": "ipython3",
      "version": "3.8.10"
    }
  },
  "nbformat": 4,
  "nbformat_minor": 0
}