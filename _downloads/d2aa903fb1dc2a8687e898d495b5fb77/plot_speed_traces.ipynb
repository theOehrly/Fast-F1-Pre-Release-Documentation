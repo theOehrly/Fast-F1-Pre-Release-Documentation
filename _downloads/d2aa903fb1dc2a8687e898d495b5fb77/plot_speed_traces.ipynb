{
  "cells": [
    {
      "cell_type": "markdown",
      "metadata": {},
      "source": [
        "# Overlaying speed traces of two laps\n\nCompare two fastest laps by overlaying their speed traces.\n"
      ]
    },
    {
      "cell_type": "code",
      "execution_count": null,
      "metadata": {
        "collapsed": false
      },
      "outputs": [],
      "source": [
        "import matplotlib.pyplot as plt\n\nimport fastf1.plotting\n\n\n# enable some matplotlib patches for plotting timedelta values and load\n# FastF1's default color scheme\nfastf1.plotting.setup_mpl(misc_mpl_mods=False)\n\n# load a session and its telemetry data\nsession = fastf1.get_session(2021, 'Spanish Grand Prix', 'Q')\nsession.load()"
      ]
    },
    {
      "cell_type": "markdown",
      "metadata": {},
      "source": [
        "First, we select the two laps that we want to compare\n\n"
      ]
    },
    {
      "cell_type": "code",
      "execution_count": null,
      "metadata": {
        "collapsed": false
      },
      "outputs": [],
      "source": [
        "ver_lap = session.laps.pick_driver('VER').pick_fastest()\nham_lap = session.laps.pick_driver('HAM').pick_fastest()"
      ]
    },
    {
      "cell_type": "markdown",
      "metadata": {},
      "source": [
        "Next we get the telemetry data for each lap. We also add a 'Distance' column\nto the telemetry dataframe as this makes it easier to compare the laps.\n\n"
      ]
    },
    {
      "cell_type": "code",
      "execution_count": null,
      "metadata": {
        "collapsed": false
      },
      "outputs": [],
      "source": [
        "ver_tel = ver_lap.get_car_data().add_distance()\nham_tel = ham_lap.get_car_data().add_distance()"
      ]
    },
    {
      "cell_type": "markdown",
      "metadata": {},
      "source": [
        "Finally, we create a plot and plot both speed traces.\nWe color the individual lines with the driver's team colors.\n\n"
      ]
    },
    {
      "cell_type": "code",
      "execution_count": null,
      "metadata": {
        "collapsed": false
      },
      "outputs": [],
      "source": [
        "rbr_color = fastf1.plotting.team_color('RBR')\nmer_color = fastf1.plotting.team_color('MER')\n\nfig, ax = plt.subplots()\nax.plot(ver_tel['Distance'], ver_tel['Speed'], color=rbr_color, label='VER')\nax.plot(ham_tel['Distance'], ham_tel['Speed'], color=mer_color, label='HAM')\n\nax.set_xlabel('Distance in m')\nax.set_ylabel('Speed in km/h')\n\nax.legend()\nplt.suptitle(f\"Fastest Lap Comparison \\n \"\n             f\"{session.event['EventName']} {session.event.year} Qualifying\")\n\nplt.show()"
      ]
    }
  ],
  "metadata": {
    "kernelspec": {
      "display_name": "Python 3",
      "language": "python",
      "name": "python3"
    },
    "language_info": {
      "codemirror_mode": {
        "name": "ipython",
        "version": 3
      },
      "file_extension": ".py",
      "mimetype": "text/x-python",
      "name": "python",
      "nbconvert_exporter": "python",
      "pygments_lexer": "ipython3",
      "version": "3.12.1"
    }
  },
  "nbformat": 4,
  "nbformat_minor": 0
}