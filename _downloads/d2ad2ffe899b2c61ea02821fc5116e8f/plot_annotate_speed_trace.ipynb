{
  "cells": [
    {
      "cell_type": "markdown",
      "metadata": {},
      "source": [
        "# Plot speed traces with corner annotations\n\nPlot the speed over the course of a lap and add annotations to mark corners.\n"
      ]
    },
    {
      "cell_type": "code",
      "execution_count": null,
      "metadata": {
        "collapsed": false
      },
      "outputs": [],
      "source": [
        "import matplotlib.pyplot as plt\n\nimport fastf1.plotting\n\n\n# enable some matplotlib patches for plotting timedelta values and load\n# FastF1's default color scheme\nfastf1.plotting.setup_mpl(misc_mpl_mods=False)\n\n# load a session and its telemetry data\nsession = fastf1.get_session(2021, 'Spanish Grand Prix', 'Q')\nsession.load()"
      ]
    },
    {
      "cell_type": "markdown",
      "metadata": {},
      "source": [
        "First, we select the fastest lap and get the car telemetry data for this\nlap.\n\n"
      ]
    },
    {
      "cell_type": "code",
      "execution_count": null,
      "metadata": {
        "collapsed": false
      },
      "outputs": [],
      "source": [
        "fastest_lap = session.laps.pick_fastest()\ncar_data = fastest_lap.get_car_data().add_distance()"
      ]
    },
    {
      "cell_type": "markdown",
      "metadata": {},
      "source": [
        "Next, load the circuit info that includes the information about the location\nof the corners.\n\n"
      ]
    },
    {
      "cell_type": "code",
      "execution_count": null,
      "metadata": {
        "collapsed": false
      },
      "outputs": [],
      "source": [
        "circuit_info = session.get_circuit_info()"
      ]
    },
    {
      "cell_type": "markdown",
      "metadata": {},
      "source": [
        "Finally, we create a plot and plot the speed trace as well as the corner\nmarkers.\n\n"
      ]
    },
    {
      "cell_type": "code",
      "execution_count": null,
      "metadata": {
        "collapsed": false
      },
      "outputs": [],
      "source": [
        "team_color = fastf1.plotting.team_color(fastest_lap['Team'])\n\nfig, ax = plt.subplots()\nax.plot(car_data['Distance'], car_data['Speed'],\n        color=team_color, label=fastest_lap['Driver'])\n\n# Draw vertical dotted lines at each corner that range from slightly below the\n# minimum speed to slightly above the maximum speed.\nv_min = car_data['Speed'].min()\nv_max = car_data['Speed'].max()\nax.vlines(x=circuit_info.corners['Distance'], ymin=v_min-20, ymax=v_max+20,\n          linestyles='dotted', colors='grey')\n\n# Plot the corner number just below each vertical line.\n# For corners that are very close together, the text may overlap. A more\n# complicated approach would be necessary to reliably prevent this.\nfor _, corner in circuit_info.corners.iterrows():\n    txt = f\"{corner['Number']}{corner['Letter']}\"\n    ax.text(corner['Distance'], v_min-30, txt,\n            va='center_baseline', ha='center', size='small')\n\nax.set_xlabel('Distance in m')\nax.set_ylabel('Speed in km/h')\nax.legend()\n\n# Manually adjust the y-axis limits to include the corner numbers, because\n# Matplotlib does not automatically account for text that was manually added.\nax.set_ylim([v_min - 40, v_max + 20])\n\nplt.show()"
      ]
    }
  ],
  "metadata": {
    "kernelspec": {
      "display_name": "Python 3",
      "language": "python",
      "name": "python3"
    },
    "language_info": {
      "codemirror_mode": {
        "name": "ipython",
        "version": 3
      },
      "file_extension": ".py",
      "mimetype": "text/x-python",
      "name": "python",
      "nbconvert_exporter": "python",
      "pygments_lexer": "ipython3",
      "version": "3.12.1"
    }
  },
  "nbformat": 4,
  "nbformat_minor": 0
}