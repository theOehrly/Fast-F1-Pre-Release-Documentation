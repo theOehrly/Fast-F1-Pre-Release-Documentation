{
  "cells": [
    {
      "cell_type": "markdown",
      "metadata": {},
      "source": [
        "# Who can still win the drivers WDC?\n\nCalculates which drivers still has chance to win the WDC.\nSimplified since it doesn't compare positions if points are equal.\n\nThis example implements 3 functions that it then uses to calculate\nits result.\n"
      ]
    },
    {
      "cell_type": "code",
      "execution_count": null,
      "metadata": {
        "collapsed": false
      },
      "outputs": [],
      "source": [
        "import fastf1\nfrom fastf1.ergast import Ergast"
      ]
    },
    {
      "cell_type": "markdown",
      "metadata": {},
      "source": [
        "For this example, we are looking at the 2023 season.\nWe want to know who can theoretically still win the drivers' championship\nafter the first 15 races.\n\n"
      ]
    },
    {
      "cell_type": "code",
      "execution_count": null,
      "metadata": {
        "collapsed": false
      },
      "outputs": [],
      "source": [
        "SEASON = 2023\nROUND = 15"
      ]
    },
    {
      "cell_type": "markdown",
      "metadata": {},
      "source": [
        "Get the current driver standings from Ergast.\nReference https://theoehrly.github.io/Fast-F1-Pre-Release-Documentation/ergast.html#fastf1.ergast.Ergast.get_driver_standings\n\n"
      ]
    },
    {
      "cell_type": "code",
      "execution_count": null,
      "metadata": {
        "collapsed": false
      },
      "outputs": [],
      "source": [
        "def get_drivers_standings():\n    ergast = Ergast()\n    standings = ergast.get_driver_standings(season=SEASON, round=ROUND)\n    return standings.content[0]"
      ]
    },
    {
      "cell_type": "markdown",
      "metadata": {},
      "source": [
        "We need a function to calculates the maximum amount of points possible if a\ndriver wins everything left of the season.\nhttps://en.wikipedia.org/wiki/List_of_Formula_One_World_Championship_points_scoring_systems\n\n"
      ]
    },
    {
      "cell_type": "code",
      "execution_count": null,
      "metadata": {
        "collapsed": false
      },
      "outputs": [],
      "source": [
        "def calculate_max_points_for_remaining_season():\n    POINTS_FOR_SPRINT = 8 + 25 + 1  # Winning the sprint, race and fastest lap\n    POINTS_FOR_CONVENTIONAL = 25 + 1  # Winning the race and fastest lap\n\n    events = fastf1.events.get_event_schedule(SEASON, backend='ergast')\n    events = events[events['RoundNumber'] > ROUND]\n    # Count how many sprints and conventional races are left\n    sprint_events = len(events.loc[events[\"EventFormat\"] == \"sprint_shootout\"])\n    conventional_events = len(events.loc[events[\"EventFormat\"] == \"conventional\"])\n\n    # Calculate points for each\n    sprint_points = sprint_events * POINTS_FOR_SPRINT\n    conventional_points = conventional_events * POINTS_FOR_CONVENTIONAL\n\n    return sprint_points + conventional_points"
      ]
    },
    {
      "cell_type": "markdown",
      "metadata": {},
      "source": [
        "For each driver we will see if there is a chance to get more points than\nthe current leader. We assume the leader gets no more points and the\ndriver gets the theoretical maximum amount of points.\n\nWe currently don't consider the case of two drivers getting equal points\nsince its more complicated and would require comparing positions.\n\n"
      ]
    },
    {
      "cell_type": "code",
      "execution_count": null,
      "metadata": {
        "collapsed": false
      },
      "outputs": [],
      "source": [
        "def calculate_who_can_win(driver_standings, max_points):\n    LEADER_POINTS = int(driver_standings.loc[0]['points'])\n\n    for i, _ in enumerate(driver_standings.iterrows()):\n        driver = driver_standings.loc[i]\n        driver_max_points = int(driver[\"points\"]) + max_points\n        can_win = 'No' if driver_max_points < LEADER_POINTS else 'Yes'\n\n        print(f\"{driver['position']}: {driver['givenName'] + ' ' + driver['familyName']}, \"\n              f\"Current points: {driver['points']}, \"\n              f\"Theoretical max points: {driver_max_points}, \"\n              f\"Can win: {can_win}\")"
      ]
    },
    {
      "cell_type": "markdown",
      "metadata": {},
      "source": [
        "Now using the 3 functions above we can use them to calculate who\ncan still win.\n\n"
      ]
    },
    {
      "cell_type": "code",
      "execution_count": null,
      "metadata": {
        "collapsed": false
      },
      "outputs": [],
      "source": [
        "# Get the current drivers standings\ndriver_standings = get_drivers_standings()\n\n# Get the maximum amount of points\npoints = calculate_max_points_for_remaining_season()\n\n# Print which drivers can still win\ncalculate_who_can_win(driver_standings, points)"
      ]
    }
  ],
  "metadata": {
    "kernelspec": {
      "display_name": "Python 3",
      "language": "python",
      "name": "python3"
    },
    "language_info": {
      "codemirror_mode": {
        "name": "ipython",
        "version": 3
      },
      "file_extension": ".py",
      "mimetype": "text/x-python",
      "name": "python",
      "nbconvert_exporter": "python",
      "pygments_lexer": "ipython3",
      "version": "3.12.1"
    }
  },
  "nbformat": 4,
  "nbformat_minor": 0
}