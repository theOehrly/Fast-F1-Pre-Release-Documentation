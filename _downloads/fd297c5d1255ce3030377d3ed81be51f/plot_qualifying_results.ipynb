{
  "cells": [
    {
      "cell_type": "markdown",
      "metadata": {},
      "source": [
        "# Qualifying results overview\n\nPlot the qualifying result with visualization the fastest times.\n"
      ]
    },
    {
      "cell_type": "code",
      "execution_count": null,
      "metadata": {
        "collapsed": false
      },
      "outputs": [],
      "source": [
        "import matplotlib.pyplot as plt\nimport pandas as pd\nfrom timple.timedelta import strftimedelta\n\nimport fastf1\nimport fastf1.plotting\nfrom fastf1.core import Laps\n\n\n# we only want support for timedelta plotting in this example\nfastf1.plotting.setup_mpl(mpl_timedelta_support=True, color_scheme=None,\n                          misc_mpl_mods=False)\n\nsession = fastf1.get_session(2021, 'Spanish Grand Prix', 'Q')\nsession.load()"
      ]
    },
    {
      "cell_type": "markdown",
      "metadata": {},
      "source": [
        "First, we need to get an array of all drivers.\n\n"
      ]
    },
    {
      "cell_type": "code",
      "execution_count": null,
      "metadata": {
        "collapsed": false
      },
      "outputs": [],
      "source": [
        "drivers = pd.unique(session.laps['Driver'])\nprint(drivers)"
      ]
    },
    {
      "cell_type": "markdown",
      "metadata": {},
      "source": [
        "After that we'll get each drivers fastest lap, create a new laps object\nfrom these laps, sort them by lap time and have pandas reindex them to\nnumber them nicely by starting position.\n\n"
      ]
    },
    {
      "cell_type": "code",
      "execution_count": null,
      "metadata": {
        "collapsed": false
      },
      "outputs": [],
      "source": [
        "list_fastest_laps = list()\nfor drv in drivers:\n    drvs_fastest_lap = session.laps.pick_driver(drv).pick_fastest()\n    list_fastest_laps.append(drvs_fastest_lap)\nfastest_laps = Laps(list_fastest_laps) \\\n    .sort_values(by='LapTime') \\\n    .reset_index(drop=True)"
      ]
    },
    {
      "cell_type": "markdown",
      "metadata": {},
      "source": [
        "The plot is nicer to look at and more easily understandable if we just plot\nthe time differences. Therefore we subtract the fastest lap time from all\nother lap times.\n\n"
      ]
    },
    {
      "cell_type": "code",
      "execution_count": null,
      "metadata": {
        "collapsed": false
      },
      "outputs": [],
      "source": [
        "pole_lap = fastest_laps.pick_fastest()\nfastest_laps['LapTimeDelta'] = fastest_laps['LapTime'] - pole_lap['LapTime']"
      ]
    },
    {
      "cell_type": "markdown",
      "metadata": {},
      "source": [
        "We can take a quick look at the laps we have to check if everything\nlooks all right. For this, we'll just check the 'Driver', 'LapTime'\nand 'LapTimeDelta' columns.\n\n"
      ]
    },
    {
      "cell_type": "code",
      "execution_count": null,
      "metadata": {
        "collapsed": false
      },
      "outputs": [],
      "source": [
        "print(fastest_laps[['Driver', 'LapTime', 'LapTimeDelta']])"
      ]
    },
    {
      "cell_type": "markdown",
      "metadata": {},
      "source": [
        "Finally, we'll create a list of team colors per lap to color our plot.\n\n"
      ]
    },
    {
      "cell_type": "code",
      "execution_count": null,
      "metadata": {
        "collapsed": false
      },
      "outputs": [],
      "source": [
        "team_colors = list()\nfor index, lap in fastest_laps.iterlaps():\n    color = fastf1.plotting.team_color(lap['Team'])\n    team_colors.append(color)"
      ]
    },
    {
      "cell_type": "markdown",
      "metadata": {},
      "source": [
        "Now, we can plot all the data\n\n"
      ]
    },
    {
      "cell_type": "code",
      "execution_count": null,
      "metadata": {
        "collapsed": false
      },
      "outputs": [],
      "source": [
        "fig, ax = plt.subplots()\nax.barh(fastest_laps.index, fastest_laps['LapTimeDelta'],\n        color=team_colors, edgecolor='grey')\nax.set_yticks(fastest_laps.index)\nax.set_yticklabels(fastest_laps['Driver'])\n\n# show fastest at the top\nax.invert_yaxis()\n\n# draw vertical lines behind the bars\nax.set_axisbelow(True)\nax.xaxis.grid(True, which='major', linestyle='--', color='black', zorder=-1000)"
      ]
    },
    {
      "cell_type": "markdown",
      "metadata": {},
      "source": [
        "Finally, give the plot a meaningful title\n\n"
      ]
    },
    {
      "cell_type": "code",
      "execution_count": null,
      "metadata": {
        "collapsed": false
      },
      "outputs": [],
      "source": [
        "lap_time_string = strftimedelta(pole_lap['LapTime'], '%m:%s.%ms')\n\nplt.suptitle(f\"{session.event['EventName']} {session.event.year} Qualifying\\n\"\n             f\"Fastest Lap: {lap_time_string} ({pole_lap['Driver']})\")\n\nplt.show()"
      ]
    }
  ],
  "metadata": {
    "kernelspec": {
      "display_name": "Python 3",
      "language": "python",
      "name": "python3"
    },
    "language_info": {
      "codemirror_mode": {
        "name": "ipython",
        "version": 3
      },
      "file_extension": ".py",
      "mimetype": "text/x-python",
      "name": "python",
      "nbconvert_exporter": "python",
      "pygments_lexer": "ipython3",
      "version": "3.12.1"
    }
  },
  "nbformat": 4,
  "nbformat_minor": 0
}